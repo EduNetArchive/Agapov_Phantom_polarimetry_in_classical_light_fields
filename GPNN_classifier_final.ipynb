{
  "cells": [
    {
      "cell_type": "code",
      "execution_count": null,
      "metadata": {
        "id": "2UaLIXo0KRLc"
      },
      "outputs": [],
      "source": [
        "import numpy as np\n",
        "import random \n",
        "import matplotlib.pyplot as plt\n",
        "from torch import nn,manual_seed,from_numpy, split, tensor\n",
        "import torch.optim as optim\n",
        "import torch\n",
        "import time\n",
        "import os\n",
        "\n",
        "def set_random_seed(seed):\n",
        "    torch.backends.cudnn.deterministic = True\n",
        "    torch.manual_seed(seed)\n",
        "    torch.cuda.manual_seed(seed)\n",
        "    np.random.seed(seed)\n",
        "    random.seed(seed)\n",
        "    os.environ[\"PYTHONHASHSEED\"] = str(seed)\n",
        "\n",
        "\n",
        "set_random_seed(42)"
      ]
    },
    {
      "cell_type": "code",
      "execution_count": null,
      "metadata": {
        "id": "zVNr4d899J4X"
      },
      "outputs": [],
      "source": [
        "def calaculate_accuracy_classifier(model,data,device):\n",
        "  correct_1, total_1 = 0., 0.\n",
        "  correct_2, total_2 = 0., 0.\n",
        "  correct_3, total_3 = 0., 0.\n",
        "  correct_4, total_4 = 0., 0.\n",
        "  numBatch = 0\n",
        "  while numBatch < len(data):\n",
        "    corrFunc, labels = data[numBatch]\n",
        "    numBatch = numBatch + 1\n",
        "    corrFunc, labels = corrFunc.to(device), labels.to(device)\n",
        "    Y_pred = model.forward(corrFunc.float()) # get output\n",
        "    max_1,max_2,max_3,max_4 = [],[],[],[]\n",
        "    for i in labels:\n",
        "      max_1.append(i[0].item())\n",
        "      max_2.append(i[1].item())\n",
        "      max_3.append(i[2].item())\n",
        "      max_4.append(i[3].item())\n",
        "    max_1,max_2,max_3,max_4  = torch.tensor(max_1).to(device),torch.tensor(max_2).to(device),\\\n",
        "              torch.tensor(max_3).to(device),torch.tensor(max_4).to(device)\n",
        "    max_1,max_2,max_3,max_4 = max_1.to(device),max_2.to(device),max_3.to(device),max_4.to(device)\n",
        "    _, predicted_1 = torch.max(Y_pred[0].data, 1) # get predicted class\n",
        "    _, predicted_2 = torch.max(Y_pred[1].data, 1)\n",
        "    _, predicted_3 = torch.max(Y_pred[2].data, 1)\n",
        "    _, predicted_4 = torch.max(Y_pred[3].data, 1)\n",
        "    total_1 += max_1.size(0) # all examples\n",
        "    total_2 += max_2.size(0) # all examples\n",
        "    total_3 += max_3.size(0) # all examples\n",
        "    total_4 += max_4.size(0) # all examples\n",
        "    correct_1 += (predicted_1 == max_1).sum().item()\n",
        "    correct_2 += (predicted_2 == max_2).sum().item()\n",
        "    correct_3 += (predicted_3 == max_3).sum().item()\n",
        "    correct_4 += (predicted_4 == max_4).sum().item()\n",
        "  return correct_1/total_1,correct_2/total_2,correct_3/total_3,correct_4/total_4"
      ]
    },
    {
      "cell_type": "code",
      "execution_count": null,
      "metadata": {
        "id": "F_nLqiarMWgk"
      },
      "outputs": [],
      "source": [
        "def dataConvertor(data):\n",
        "    inputData = []\n",
        "    outputData = []\n",
        "    for i in data:\n",
        "        inputData.append(i[0])\n",
        "        outputData.append(i[1])\n",
        "    return tensor(inputData),tensor(outputData)\n",
        "\n",
        "\n",
        "def dataBatching(data,batch_len=1):\n",
        "    inputData =  split(data[0],batch_len)\n",
        "    outputData = split(data[1],batch_len)\n",
        "    batchedData = []\n",
        "    for i in range(len(inputData)):\n",
        "        batchedData.append([inputData[i],outputData[i]])\n",
        "    return batchedData"
      ]
    },
    {
      "cell_type": "code",
      "execution_count": null,
      "metadata": {
        "id": "qmDT21JaVC5I"
      },
      "outputs": [],
      "source": [
        "def loss_classifier(criterion,predict,original,device):\n",
        "  criterion = nn.CrossEntropyLoss()\n",
        "  loss_1,loss_2,loss_3,loss_4 = [],[],[],[]\n",
        "  for i in original:\n",
        "    loss_1.append(i[0].item())\n",
        "    loss_2.append(i[1].item())\n",
        "    loss_3.append(i[2].item())\n",
        "    loss_4.append(i[3].item())\n",
        "  loss_1,loss_2,loss_3,loss_4 = torch.tensor(loss_1).to(device),torch.tensor(loss_2).to(device),\\\n",
        "              torch.tensor(loss_3).to(device),torch.tensor(loss_4).to(device)\n",
        "  total_loss = criterion(predict[0],loss_1)+criterion(predict[1],loss_2)+\\\n",
        "  criterion(predict[2],loss_3)+criterion(predict[3],loss_4)\n",
        "  return total_loss\n",
        "\n",
        "  "
      ]
    },
    {
      "cell_type": "markdown",
      "metadata": {
        "id": "5f-ssJfu2cxn"
      },
      "source": [
        "classification report (sklearn)"
      ]
    },
    {
      "cell_type": "code",
      "execution_count": null,
      "metadata": {
        "id": "LWVzaR_8Kb7Z"
      },
      "outputs": [],
      "source": [
        "\n",
        "\n",
        "baseSeq = nn.Sequential(\n",
        "     nn.Linear(9, 200),\n",
        "     nn.ReLU(),\n",
        "     nn.BatchNorm1d(200),\n",
        "     nn.Linear(200, 2000),\n",
        "     nn.ReLU(),\n",
        "     nn.BatchNorm1d(2000),\n",
        "     nn.Linear(2000, 4000),\n",
        "     nn.ReLU(),\n",
        "     nn.BatchNorm1d(4000),\n",
        "     nn.Linear(4000, 700),\n",
        "     nn.ReLU(),\n",
        "     nn.BatchNorm1d(700),\n",
        "     nn.Linear(700, 50),\n",
        "     nn.ReLU(),\n",
        "     nn.BatchNorm1d(50)\n",
        ")\n",
        "\n",
        "\n",
        "class GPNN_classifier(nn.Module):\n",
        "    def __init__(self, Seq = baseSeq, init_form = \"normal\"):\n",
        "        super().__init__()\n",
        "        self.layers_stack = Seq\n",
        "        self.exit_1 = nn.Sequential(nn.Linear(50, 2))\n",
        "        self.exit_2 = nn.Sequential(nn.Linear(50, 2))\n",
        "        self.exit_3 = nn.Sequential(nn.Linear(50, 2))\n",
        "        self.exit_4 = nn.Sequential(nn.Linear(50, 2))\n",
        "        self.init_form = init_form\n",
        "        if self.init_form is not None:\n",
        "            self.init()\n",
        "            \n",
        "\n",
        "    def forward(self, x):\n",
        "        x = self.layers_stack(x)\n",
        "        return self.exit_1(x),self.exit_2(x),self.exit_3(x),self.exit_4(x)\n",
        "  \n",
        "    def init(self):\n",
        "        relu_gain = torch.nn.init.calculate_gain(\"relu\")\n",
        "        for child in self.layers_stack.children():\n",
        "            if isinstance(child, nn.Linear):\n",
        "                if self.init_form == \"normal\":\n",
        "                    torch.nn.init.kaiming_normal_(child.weight,\n",
        "                                                 nonlinearity='relu')\n",
        "                    \n",
        "                    if child.bias is not None:\n",
        "                        torch.nn.init.zeros_(child.bias)\n",
        "                elif self.init_form == \"uniform\":\n",
        "                    torch.nn.init.kaiming_uniform_(child.weight,\n",
        "                                                  nonlinearity='relu')\n",
        "                    if child.bias is not None:\n",
        "                        torch.nn.init.zeros_(child.bias)\n",
        "                else:\n",
        "                    raise NotImplementedError()\n",
        "\n",
        "\n",
        "\n",
        "def trainGPNN_c(model, trainloader,testloader,device = 'cpu', num_epochs = 2, criterion = nn.MSELoss,\\\n",
        "              optimizer = optim.Adam,learning_rate = 0.001,maxBatch = 10):\n",
        "\n",
        "    \n",
        "    optimizer = optimizer(model.parameters(), lr=learning_rate)\n",
        "    num_epochs = num_epochs\n",
        "    loss_hist_train = [] # for plotting\n",
        "    loss_hist_test = []\n",
        "    acc_test_1,acc_test_2,acc_test_3,acc_test_4 = [],[],[],[]\n",
        "    acc_train_1,acc_train_2,acc_train_3,acc_train_4 = [],[],[],[]\n",
        "    for epoch in range(num_epochs):\n",
        "        hist_loss = 0\n",
        "        numBatch = 0\n",
        "        model.train()\n",
        "        while numBatch < maxBatch:\n",
        "            corrFunc, values = trainloader[numBatch]\n",
        "            corrFunc, values = corrFunc.to(device), values.to(device)\n",
        "            numBatch = numBatch + 1\n",
        "            optimizer.zero_grad()\n",
        "            loss = loss_classifier(criterion, model(corrFunc), values,device)\n",
        "            loss.backward()    \n",
        "            optimizer.step()\n",
        "            hist_loss += loss.item()\n",
        "        loss_hist_train.append(hist_loss /len(trainloader))\n",
        "        \n",
        "        model.eval()\n",
        "        test_loss = 0\n",
        "        numBatch = 0\n",
        "        with torch.no_grad():\n",
        "          while numBatch < maxBatch:\n",
        "            corrFunc, values = testloader[numBatch]\n",
        "            corrFunc, values = corrFunc.to(device), values.to(device)\n",
        "            predict = model(corrFunc)\n",
        "            loss = loss_classifier(criterion, model(corrFunc), values,device)\n",
        "            test_loss += loss.item()\n",
        "            numBatch = numBatch + 1\n",
        "\n",
        "        loss_hist_test.append(test_loss/len(testloader))\n",
        "        \n",
        "        a,b,c,d = calaculate_accuracy_classifier(model,trainloader,device)\n",
        "        acc_train_1.append(a);acc_train_2.append(b);acc_train_3.append(c);acc_train_4.append(d)\n",
        "        a,b,c,d = calaculate_accuracy_classifier(model,testloader,device)\n",
        "        acc_test_1.append(a);acc_test_2.append(b);acc_test_3.append(c);acc_test_4.append(d)\n",
        "        \n",
        "        if epoch%10 == 0: print(f\"Epoch={epoch} loss_train={loss_hist_train[epoch]:.5f} loss_test={loss_hist_test[epoch]:.5f}\")\n",
        "    \n",
        "    return loss_hist_train,loss_hist_test,\\\n",
        "      [acc_test_1,acc_test_2,acc_test_3,acc_test_4],[acc_train_1,acc_train_2,acc_train_3,acc_train_4]\n"
      ]
    },
    {
      "cell_type": "code",
      "execution_count": null,
      "metadata": {
        "colab": {
          "base_uri": "https://localhost:8080/"
        },
        "id": "Zk0jeqhAMZtE",
        "outputId": "2fcffcf9-df81-46c5-c49a-c25b479d609e"
      },
      "outputs": [
        {
          "output_type": "stream",
          "name": "stdout",
          "text": [
            "Mounted at /content/gdrive\n"
          ]
        }
      ],
      "source": [
        "from google.colab import drive\n",
        "drive.mount('/content/gdrive')"
      ]
    },
    {
      "cell_type": "code",
      "execution_count": null,
      "metadata": {
        "colab": {
          "base_uri": "https://localhost:8080/"
        },
        "id": "sZs0dp-QMbcd",
        "outputId": "d075e2d8-e2d3-40e4-fac4-f7bd05099678"
      },
      "outputs": [
        {
          "output_type": "stream",
          "name": "stderr",
          "text": [
            "/usr/local/lib/python3.7/dist-packages/ipykernel_launcher.py:7: UserWarning: Creating a tensor from a list of numpy.ndarrays is extremely slow. Please consider converting the list to a single numpy.ndarray with numpy.array() before converting to a tensor. (Triggered internally at  ../torch/csrc/utils/tensor_new.cpp:201.)\n",
            "  import sys\n"
          ]
        }
      ],
      "source": [
        "testData = np.load(\"/content/gdrive/MyDrive/Data_art_NN/Datasets/forRegression_RandomClass_train_500000.npy\",allow_pickle=True)\n",
        "trainData = np.load(\"/content/gdrive/MyDrive/Data_art_NN/Datasets/forRegression_RandomClass_train_500000.npy\",allow_pickle=True)\n",
        "trainData = dataBatching(dataConvertor(trainData),500)\n",
        "testData = dataBatching(dataConvertor(testData),500)"
      ]
    },
    {
      "cell_type": "code",
      "execution_count": null,
      "metadata": {
        "colab": {
          "base_uri": "https://localhost:8080/"
        },
        "id": "ZhNj0nQTNosy",
        "outputId": "bc4dac61-5550-4a92-f372-378f5457a4c2"
      },
      "outputs": [
        {
          "output_type": "stream",
          "name": "stdout",
          "text": [
            "Using device: cuda\n"
          ]
        }
      ],
      "source": [
        "device = torch.device('cuda' if torch.cuda.is_available() else 'cpu')\n",
        "print('Using device:', device)"
      ]
    },
    {
      "cell_type": "code",
      "execution_count": null,
      "metadata": {
        "colab": {
          "base_uri": "https://localhost:8080/"
        },
        "id": "5NjXcAgqaAzi",
        "outputId": "5af593d3-cd07-4963-a675-1762f29db91b"
      },
      "outputs": [
        {
          "output_type": "stream",
          "name": "stdout",
          "text": [
            "Epoch=0 loss_train=0.48658 loss_test=0.34182\n",
            "Epoch=10 loss_train=0.19361 loss_test=0.18650\n",
            "Duration: 1488.3220603466034\n"
          ]
        }
      ],
      "source": [
        "set_random_seed(42)\n",
        "\n",
        "model = GPNN_classifier().to(device)\n",
        "model = model.float()\n",
        "time_0 = time.time()\n",
        "loss_train, loss_test, acc_train, acc_test = trainGPNN_c(model,trainData, testData,  \\\n",
        "                      criterion = torch.nn.functional.binary_cross_entropy, \\\n",
        "                      num_epochs = 15, learning_rate = 0.001, device = device, maxBatch = 400)\n",
        "print(\"Duration:\", time.time()-time_0)"
      ]
    },
    {
      "cell_type": "code",
      "execution_count": null,
      "metadata": {
        "colab": {
          "base_uri": "https://localhost:8080/",
          "height": 279
        },
        "id": "3C6vieuVBJva",
        "outputId": "3673fa50-c2dd-44a7-88f6-ad12b923dd00"
      },
      "outputs": [
        {
          "output_type": "display_data",
          "data": {
            "text/plain": [
              "<Figure size 432x288 with 1 Axes>"
            ],
            "image/png": "[encoded data removed]"
          },
          "metadata": {
            "needs_background": "light"
          }
        }
      ],
      "source": [
        "fig, ax = plt.subplots()\n",
        "ax.plot(acc_test[0],label='Train LAA')\n",
        "ax.plot(acc_test[1],label='Train LPA')\n",
        "ax.plot(acc_test[2],label='Train CAA')\n",
        "ax.plot(acc_test[3],label='Train CPA')\n",
        "ax.plot(acc_train[0],\".\")\n",
        "ax.plot(acc_train[1],\".\")\n",
        "ax.plot(acc_train[2],\".\")\n",
        "ax.plot(acc_train[3],\".\")\n",
        "ax.set_xlabel(\"Номер эпохи\")\n",
        "ax.set_ylabel(\"Величина accuracy\")\n",
        "ax.legend()\n",
        "fig.savefig(\"accuracy\",dpi=200)"
      ]
    },
    {
      "cell_type": "code",
      "execution_count": null,
      "metadata": {
        "id": "eRCdgvWY0Gvy",
        "colab": {
          "base_uri": "https://localhost:8080/",
          "height": 282
        },
        "outputId": "30ac58aa-91ae-4ca1-d594-3b762eafbe93"
      },
      "outputs": [
        {
          "output_type": "display_data",
          "data": {
            "text/plain": [
              "<Figure size 432x288 with 1 Axes>"
            ],
            "image/png": "[encoded data removed]"
          },
          "metadata": {
            "needs_background": "light"
          }
        }
      ],
      "source": [
        "fig, ax = plt.subplots()\n",
        "ax.plot(loss_train, label='Train loss')\n",
        "ax.plot(loss_test, label='Test loss')\n",
        "ax.set_xlabel(\"Номер эпохи\")\n",
        "ax.set_ylabel(\"Величина потерь\")\n",
        "ax.legend()\n",
        "fig.savefig(\"loss\",dpi=200)"
      ]
    },
    {
      "cell_type": "code",
      "source": [],
      "metadata": {
        "id": "oNuBB0ZnjNOy"
      },
      "execution_count": null,
      "outputs": []
    }
  ],
  "metadata": {
    "accelerator": "GPU",
    "colab": {
      "collapsed_sections": [],
      "provenance": []
    },
    "kernelspec": {
      "display_name": "Python 3",
      "name": "python3"
    },
    "language_info": {
      "name": "python"
    },
    "gpuClass": "premium"
  },
  "nbformat": 4,
  "nbformat_minor": 0
}